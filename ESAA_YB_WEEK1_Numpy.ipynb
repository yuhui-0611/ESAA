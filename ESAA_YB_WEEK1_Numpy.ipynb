{
  "nbformat": 4,
  "nbformat_minor": 0,
  "metadata": {
    "colab": {
      "provenance": [],
      "authorship_tag": "ABX9TyOpDZG0vMKsHoIOZ6kHCPgF",
      "include_colab_link": true
    },
    "kernelspec": {
      "name": "python3",
      "display_name": "Python 3"
    },
    "language_info": {
      "name": "python"
    }
  },
  "cells": [
    {
      "cell_type": "markdown",
      "metadata": {
        "id": "view-in-github",
        "colab_type": "text"
      },
      "source": [
        "<a href=\"https://colab.research.google.com/github/yuhui-0611/ESAA/blob/main/ESAA_YB_WEEK1_Numpy.ipynb\" target=\"_parent\"><img src=\"https://colab.research.google.com/assets/colab-badge.svg\" alt=\"Open In Colab\"/></a>"
      ]
    },
    {
      "cell_type": "markdown",
      "source": [
        "머신러닝의 개념\n",
        "- 앱을 수정하지 않고도 데이터를 기반으로 패턴을 학습하고 결과를 예측하는 알고리즘 기법\n",
        "- 일정한 패턴을 찾기 어려운 경우 사용\n",
        "- 데이터 기반 통계적 신뢰도 강화 및 예측 오류 최소화\n",
        "- 패턴 학습 및 예측 수행을 통한 정확한 예측 및 의사결정 도출\n",
        "\n",
        "머신러닝의 분류\n",
        "- 지도학습 : 분류, 회귀, 추천 시스템, 시각/음성감지, 텍스트분석, NLP\n",
        "- 비지도학습 : 클러스터링, 차원축소, 강화학습"
      ],
      "metadata": {
        "id": "ymH-IECGU4bd"
      }
    },
    {
      "cell_type": "markdown",
      "source": [
        "# **넘파이**\n",
        "\n",
        "- Numerical Python : 파이썬에서 선형대수 기반 프로그램을 쉽게 만들 수 있도록 지원하는 패키지\n",
        "- 루프를 사용하지 않고 대량의 데이터 배열 연산을 가능케 함 > 빠른 속도 보장"
      ],
      "metadata": {
        "id": "7_n49LuEwq8A"
      }
    },
    {
      "cell_type": "markdown",
      "source": [
        "**넘파이 ndarray 개요**"
      ],
      "metadata": {
        "id": "v1pq5dBe28ax"
      }
    },
    {
      "cell_type": "code",
      "execution_count": null,
      "metadata": {
        "id": "BiEO9z7BURrF"
      },
      "outputs": [],
      "source": [
        "import numpy as np"
      ]
    },
    {
      "cell_type": "markdown",
      "source": [
        "- import numpy만 해도 충분하지만, as np를 추가해 약어로 모듈 표현\n",
        "- 넘파이 기반 데이터 타입 = ndarray\n",
        "- ndarray를 이용해 다차원 배열 쉽게 생성 & 다양한 연산 수행 가능\n",
        "- 넘파이 array() 함수 : 리스트와 같은 다양한 인자 입력받은 후 ndarray로 변환\n",
        "- 생성된 ndarray 배열의 shape 변수 : ndarray의 행렬 수를 튜플 형태로 지니며, 이를 통해 ndarray 배열의 차원까지 알 수 있음"
      ],
      "metadata": {
        "id": "W6rx0-fw2EQj"
      }
    },
    {
      "cell_type": "code",
      "source": [
        "array1 = np.array([1, 2, 3])\n",
        "print('array1 type：', type(array1))\n",
        "print('array1 array 형태:', array1.shape)\n",
        "\n",
        "array2 = np.array([[1, 2, 3],\n",
        "                   [2, 3, 4]])\n",
        "print('array2 type：', type(array2))\n",
        "print('array2 array 형태:', array2.shape)\n",
        "\n",
        "array3 = np.array([[1, 2, 3]])\n",
        "print('array3 type：', type(array3))\n",
        "print('array3 array 형태:', array3.shape)"
      ],
      "metadata": {
        "colab": {
          "base_uri": "https://localhost:8080/"
        },
        "id": "IAJNmrWK2zcJ",
        "outputId": "24e99206-762e-4fa9-cd1a-c29a0b293df6"
      },
      "execution_count": null,
      "outputs": [
        {
          "output_type": "stream",
          "name": "stdout",
          "text": [
            "array1 type： <class 'numpy.ndarray'>\n",
            "array1 array 형태: (3,)\n",
            "array2 type： <class 'numpy.ndarray'>\n",
            "array2 array 형태: (2, 3)\n",
            "array3 type： <class 'numpy.ndarray'>\n",
            "array3 array 형태: (1, 3)\n"
          ]
        }
      ]
    },
    {
      "cell_type": "code",
      "source": [
        "## output\n",
        "# array1 type： <class 'numpy.ndarray'>\n",
        "# array1 array 형태: (3,)\n",
        "# array2 type： <class 'numpy.ndarray'>\n",
        "# array2 array 형태: (2, 3)\n",
        "# array3 type： <class 'numpy.ndarray'>\n",
        "# array3 array 형태: (1, 3)"
      ],
      "metadata": {
        "id": "Q-S2qTXU3U47"
      },
      "execution_count": null,
      "outputs": []
    },
    {
      "cell_type": "markdown",
      "source": [
        "- np.array() : nparray로 변환을 원하는 객체를 인자로 입력하면, nparray 반환\n",
        "- nparray.shape = nparray의 차원과 크기를 튜플 형태로 나타냄\n",
        "- ex) [1,2,3]인 array1 shape = 1차원 데이터 & 3개의 데이터\n",
        "    [[1,2,3], [2,3,4]]인 array2 shape =  2차원 array & 행 2개, 열 3개 & 크기 6"
      ],
      "metadata": {
        "id": "YW5_J9Y75Lsh"
      }
    },
    {
      "cell_type": "code",
      "source": [
        "print('array1: {0}차원, array2: {1}차원, array3: {2}차원'. format(array1.ndim,\n",
        "                                                            array2.ndim, array3.ndim))"
      ],
      "metadata": {
        "colab": {
          "base_uri": "https://localhost:8080/"
        },
        "id": "Y3o8hxoqEdxJ",
        "outputId": "61949e68-bef3-427e-92a3-32be033a99cb"
      },
      "execution_count": null,
      "outputs": [
        {
          "output_type": "stream",
          "name": "stdout",
          "text": [
            "array1: 1차원, array2: 2차원, array3: 2차원\n"
          ]
        }
      ]
    },
    {
      "cell_type": "code",
      "source": [
        "## output\n",
        "# array1: 1차원, array2: 2차원, array3: 2차원"
      ],
      "metadata": {
        "id": "RDIo1X6RHVO5"
      },
      "execution_count": null,
      "outputs": []
    },
    {
      "cell_type": "markdown",
      "source": [
        "- array() 함수의 인자로는 파이썬의 리스트가 주로 사용됨\n",
        "- 리스트의 [] = 1차원, [[]] = 2차원"
      ],
      "metadata": {
        "id": "1pcJr4BwHbx9"
      }
    },
    {
      "cell_type": "markdown",
      "source": [
        "**ndarray의 데이터 타입**\n",
        "\n",
        "- ndarray내의 데이터 값은 숫자, 문자열, 불 등 모두 가능\n",
        "- ndarray 내 데이터 타입은 같은 데이터 타입만 가능\n",
        "- 즉, 한 개의 ndarray 객체에 int와 float가 함께 있을 수 없음\n",
        "- ndarray내의 데이터 타입은 dtype으로 확인 가능"
      ],
      "metadata": {
        "id": "oedtwvTBH3-2"
      }
    },
    {
      "cell_type": "code",
      "source": [
        "list1 = [1, 2, 3]\n",
        "print(type(list1))\n",
        "array1 = np.array(list1)\n",
        "print(type(array1))\n",
        "print(array1, array1.dtype)"
      ],
      "metadata": {
        "colab": {
          "base_uri": "https://localhost:8080/"
        },
        "id": "JrODjWJNHnq3",
        "outputId": "d1226804-05f1-4d78-df4e-e83bcd010e2f"
      },
      "execution_count": null,
      "outputs": [
        {
          "output_type": "stream",
          "name": "stdout",
          "text": [
            "<class 'list'>\n",
            "<class 'numpy.ndarray'>\n",
            "[1 2 3] int64\n"
          ]
        }
      ]
    },
    {
      "cell_type": "code",
      "source": [
        "## output\n",
        "# <class 'list'>\n",
        "# <class 'numpy.ndarray'>\n",
        "# [1 2 3] int64"
      ],
      "metadata": {
        "id": "OoiiBAO7IwZO"
      },
      "execution_count": null,
      "outputs": []
    },
    {
      "cell_type": "markdown",
      "source": [
        "- list를 array로 바꾸었고, 이렇게 변경된 ndarray 내 데이터 값은 모두 int64형임\n",
        "- list는 서로 다른 데이터 타입을 가질 수 있지만, ndarray는 연산 특성상 같은 데이터 타입만 가질 수 있음\n",
        "- 하지만, 만약 다른 데이터 유형이 섞인 list를 ndarray로 변경하면 데이터 크기가 더 큰 데이터 타입으로 형 변환 일괄 적용"
      ],
      "metadata": {
        "id": "zhH4nkL6JdQF"
      }
    },
    {
      "cell_type": "code",
      "source": [
        "list2 = [1,2, 'test']\n",
        "array2 = np.array(list2)\n",
        "print(array2, array2.dtype)\n",
        "\n",
        "list3 = [1, 2, 3.0]\n",
        "array3 = np.array(list3)\n",
        "print(array3, array3.dtype)"
      ],
      "metadata": {
        "colab": {
          "base_uri": "https://localhost:8080/"
        },
        "id": "NNHeXpxxJ9hW",
        "outputId": "4f5aa50e-165d-44dc-bd06-8fdcb9919381"
      },
      "execution_count": null,
      "outputs": [
        {
          "output_type": "stream",
          "name": "stdout",
          "text": [
            "['1' '2' 'test'] <U21\n",
            "[1. 2. 3.] float64\n"
          ]
        }
      ]
    },
    {
      "cell_type": "code",
      "source": [
        "## output\n",
        "# ['1' '2' 'test'] <U21\n",
        "# [1. 2. 3.] float64"
      ],
      "metadata": {
        "id": "AXEj4npWKCfd"
      },
      "execution_count": null,
      "outputs": []
    },
    {
      "cell_type": "markdown",
      "source": [
        "- 첫번째 결과: int형 값과 문자열이 섞인 list2를 ndarray로 변환한 ndarray2는 숫자형 값 1,2가 모두 문자열로 변환됨\n",
        "- 두번째 결과: int형과 float형이 섞인 list3도 int1,2가 모두 실수인 float64로 변환됨"
      ],
      "metadata": {
        "id": "_g_BDUO6Kc6s"
      }
    },
    {
      "cell_type": "code",
      "source": [
        "array_int = np.array([1, 2, 3])\n",
        "array_float = array_int.astype('float64')\n",
        "print(array_float, array_float.dtype)\n",
        "\n",
        "array_int1= array_float.astype('int32')\n",
        "print(array_int1, array_int1.dtype)\n",
        "\n",
        "array_float1 = np.array([1.1, 2.1, 3.1 ])\n",
        "array_int2= array_float1.astype('int32')\n",
        "print(array_int2, array_int2.dtype)"
      ],
      "metadata": {
        "colab": {
          "base_uri": "https://localhost:8080/"
        },
        "id": "difWQtXWLGh2",
        "outputId": "8c539f9d-70da-4342-a698-143c7b975ec5"
      },
      "execution_count": null,
      "outputs": [
        {
          "output_type": "stream",
          "name": "stdout",
          "text": [
            "[1. 2. 3.] float64\n",
            "[1 2 3] int32\n",
            "[1 2 3] int32\n"
          ]
        }
      ]
    },
    {
      "cell_type": "code",
      "source": [
        "## output\n",
        "# [1. 2. 3.] float64\n",
        "# [1 2 3] int32\n",
        "# [1 2 3] int32"
      ],
      "metadata": {
        "id": "Xmxy8MK4LIRZ"
      },
      "execution_count": null,
      "outputs": []
    },
    {
      "cell_type": "markdown",
      "source": [
        "- astype() = ndarray내 데이터 값 타입 변경\n",
        "- 대용량 데이터의 ndarray를 만들 때 메모리 절약 가능\n",
        "- 예를 들어, int형으로 충분한데 데이터 타입이 float라면 int형으로 바꾸어 메모리 절약 가능\n",
        "- 위 코드: int32형 데이터를 float64로 변환하고 다시 int32로 변경한 것"
      ],
      "metadata": {
        "id": "NPZ-V0XULH21"
      }
    },
    {
      "cell_type": "markdown",
      "source": [
        "**ndarray를 편리하게 생성하기 - arange, zeros, ones**"
      ],
      "metadata": {
        "id": "RzA9CipYLjtC"
      }
    },
    {
      "cell_type": "markdown",
      "source": [
        "- 특정 크기와 차원을 가진 ndarray를 연속값이나 0 또는 1로 초기화하는 경우 사용"
      ],
      "metadata": {
        "id": "RQHQ7Z7QOINo"
      }
    },
    {
      "cell_type": "markdown",
      "source": [
        "***arrange()*** : range()와 유사하며, 0부터 '함수 인자 값 -1'까지의 값을 순차적으로 ndarray의 데이터 값으로 변환"
      ],
      "metadata": {
        "id": "AOhNTJ8mx605"
      }
    },
    {
      "cell_type": "code",
      "source": [
        "sequence_array = np.arange(10)\n",
        "print(sequence_array)\n",
        "print(sequence_array.dtype, sequence_array.shape)"
      ],
      "metadata": {
        "colab": {
          "base_uri": "https://localhost:8080/"
        },
        "id": "cC8RfgymLHFu",
        "outputId": "1fd97aa1-9f4a-4963-e5f3-92f9e4d8148d"
      },
      "execution_count": null,
      "outputs": [
        {
          "output_type": "stream",
          "name": "stdout",
          "text": [
            "[0 1 2 3 4 5 6 7 8 9]\n",
            "int64 (10,)\n"
          ]
        }
      ]
    },
    {
      "cell_type": "code",
      "source": [
        "## output\n",
        "# [0 1 2 3 4 5 6 7 8 9]\n",
        "# int64 (10,)"
      ],
      "metadata": {
        "id": "W4IeqW6dOptJ"
      },
      "execution_count": null,
      "outputs": []
    },
    {
      "cell_type": "markdown",
      "source": [
        "- default 함수 인자는 stop 값\n",
        "- 0부터 stop 값인 10에서 -1을 더한 9까지의 연속 숫자 값으로 구성된 1차원 ndarray가 만들어짐\n",
        "- 위 코드는 stop 값만 부여했으나, range처럼 start 값도 부여할 수 있음"
      ],
      "metadata": {
        "id": "WKUFDQnSOuql"
      }
    },
    {
      "cell_type": "markdown",
      "source": [
        "***zeros()*** : 함수 인자로 튜플 형태의 shape 값을 입력하면 모든 값을 0으로 채운 해당 shape를 가진 ndarray 반환"
      ],
      "metadata": {
        "id": "ocSkKUfcyBsr"
      }
    },
    {
      "cell_type": "markdown",
      "source": [
        "***ones()*** : 함수 인자로 튜플 형태의 shape 값을 입력하면 모든 값을 1로 채운 해당 shape를 가진 ndarray 반환\n",
        "- 함수 인자로 dtype를 정해주지 않으면, default로 float64형의 데이터로 ndarray 채움"
      ],
      "metadata": {
        "id": "QyOVIn3GzBJ9"
      }
    },
    {
      "cell_type": "code",
      "source": [
        "zero_array = np.zeros((3, 2), dtype='int32')\n",
        "print(zero_array)\n",
        "print(zero_array.dtype, zero_array.shape)\n",
        "\n",
        "one_array = np.ones((3, 2))\n",
        "print(one_array)\n",
        "print(one_array.dtype, one_array.shape)"
      ],
      "metadata": {
        "colab": {
          "base_uri": "https://localhost:8080/"
        },
        "id": "fRrdy9Ymxk2t",
        "outputId": "4ddb2146-82d4-478f-aeb4-553c0e2cc626"
      },
      "execution_count": null,
      "outputs": [
        {
          "output_type": "stream",
          "name": "stdout",
          "text": [
            "[[0 0]\n",
            " [0 0]\n",
            " [0 0]]\n",
            "int32 (3, 2)\n",
            "[[1. 1.]\n",
            " [1. 1.]\n",
            " [1. 1.]]\n",
            "float64 (3, 2)\n"
          ]
        }
      ]
    },
    {
      "cell_type": "code",
      "source": [
        "## output\n",
        "# [[0 0]\n",
        "#  [0 0]\n",
        "#  [0 0]]\n",
        "# int32 (3, 2)\n",
        "# [[1. 1.]\n",
        "#  [1. 1.]\n",
        "#  [1. 1.]]\n",
        "# float64 (3, 2)"
      ],
      "metadata": {
        "id": "vCkSND5ozeNS"
      },
      "execution_count": null,
      "outputs": []
    },
    {
      "cell_type": "markdown",
      "source": [
        "**ndarray의 차원과 크기를 변경하는 reshape()**"
      ],
      "metadata": {
        "id": "lAWQZN6v0qYE"
      }
    },
    {
      "cell_type": "markdown",
      "source": [
        "reshape() : ndarray를 특정 차원 및 크기로 변환\n",
        "- 변환을 원하는 크기를 함수 인자로 부여"
      ],
      "metadata": {
        "id": "PLBwfnGg0qI2"
      }
    },
    {
      "cell_type": "code",
      "source": [
        "array1 = np.arange(10)\n",
        "print('array1：\\n', array1)\n",
        "\n",
        "array2 = array1.reshape(2, 5)\n",
        "print('array2：\\n', array2)\n",
        "\n",
        "array3 = array1.reshape(5, 2)\n",
        "print('array3：\\n', array3)"
      ],
      "metadata": {
        "colab": {
          "base_uri": "https://localhost:8080/"
        },
        "id": "Z2N_5tRA0-4F",
        "outputId": "bf30ec19-eaed-4950-a41e-56dcf0badc7b"
      },
      "execution_count": null,
      "outputs": [
        {
          "output_type": "stream",
          "name": "stdout",
          "text": [
            "array1：\n",
            " [0 1 2 3 4 5 6 7 8 9]\n",
            "array2：\n",
            " [[0 1 2 3 4]\n",
            " [5 6 7 8 9]]\n",
            "array3：\n",
            " [[0 1]\n",
            " [2 3]\n",
            " [4 5]\n",
            " [6 7]\n",
            " [8 9]]\n"
          ]
        }
      ]
    },
    {
      "cell_type": "code",
      "source": [
        "## output\n",
        "# array1：\n",
        "#  [0 1 2 3 4 5 6 7 8 9]\n",
        "# array2：\n",
        "#  [[0 1 2 3 4]\n",
        "#  [5 6 7 8 9]]\n",
        "# array3：\n",
        "#  [[0 1]\n",
        "#  [2 3]\n",
        "#  [4 5]\n",
        "#  [6 7]\n",
        "#  [8 9]]"
      ],
      "metadata": {
        "id": "8ama_IBg1h-Q"
      },
      "execution_count": null,
      "outputs": []
    },
    {
      "cell_type": "markdown",
      "source": [
        "- 0~9까지의 1차원 ndarray를 2행 5열과 5행 2열 형태로 2차원 ndarray로 변환"
      ],
      "metadata": {
        "id": "z9p_nYsC1yDp"
      }
    },
    {
      "cell_type": "code",
      "source": [
        "array1.reshape(4,3)"
      ],
      "metadata": {
        "colab": {
          "base_uri": "https://localhost:8080/",
          "height": 146
        },
        "id": "79_PUteN2VEB",
        "outputId": "dfa79d67-9048-4afe-ce8f-22c123224c4b"
      },
      "execution_count": null,
      "outputs": [
        {
          "output_type": "error",
          "ename": "ValueError",
          "evalue": "cannot reshape array of size 10 into shape (4,3)",
          "traceback": [
            "\u001b[0;31m---------------------------------------------------------------------------\u001b[0m",
            "\u001b[0;31mValueError\u001b[0m                                Traceback (most recent call last)",
            "\u001b[0;32m/tmp/ipython-input-1938297127.py\u001b[0m in \u001b[0;36m<cell line: 0>\u001b[0;34m()\u001b[0m\n\u001b[0;32m----> 1\u001b[0;31m \u001b[0marray1\u001b[0m\u001b[0;34m.\u001b[0m\u001b[0mreshape\u001b[0m\u001b[0;34m(\u001b[0m\u001b[0;36m4\u001b[0m\u001b[0;34m,\u001b[0m\u001b[0;36m3\u001b[0m\u001b[0;34m)\u001b[0m\u001b[0;34m\u001b[0m\u001b[0;34m\u001b[0m\u001b[0m\n\u001b[0m",
            "\u001b[0;31mValueError\u001b[0m: cannot reshape array of size 10 into shape (4,3)"
          ]
        }
      ]
    },
    {
      "cell_type": "markdown",
      "source": [
        "- 위 코드처럼 지정된 사이즈 변경이 불가하면 오류 발생\n",
        "- ex. (10,)인 1차원 10행 데이터를 (4,3) shape 형태로 변경 불가"
      ],
      "metadata": {
        "id": "WD3lmWNg3NNG"
      }
    },
    {
      "cell_type": "code",
      "source": [
        "array1 = np.arange(10)\n",
        "print(array1)\n",
        "\n",
        "array2 = array1.reshape(-1, 5)\n",
        "print('array2 shape：', array2.shape)\n",
        "\n",
        "arrays = array1.reshape(5, -1)\n",
        "print('array3 shape：', array3.shape)"
      ],
      "metadata": {
        "colab": {
          "base_uri": "https://localhost:8080/"
        },
        "id": "E2IHfNJY3Sj2",
        "outputId": "ecc1a80c-d1f6-4d25-98b8-d89e3be08b8f"
      },
      "execution_count": null,
      "outputs": [
        {
          "output_type": "stream",
          "name": "stdout",
          "text": [
            "[0 1 2 3 4 5 6 7 8 9]\n",
            "array2 shape： (2, 5)\n",
            "array3 shape： (5, 2)\n"
          ]
        }
      ]
    },
    {
      "cell_type": "markdown",
      "source": [
        "- -1을 적용하면 원래 ndarray와 호환되는 새로운 shape로 변환\n",
        "- array은 1차원 ndarray로 0~9까지의 데이터를 가지고 있음\n",
        "- array1.reshape(-1,5) : array1과 호환될 수 있는 2차원 ndarray로 변환하되, 고정된 5개의 칼럼에 맞는 행을 자동으로 새롭게 생성해 변환\n",
        "- 즉, 5열로 만들려면 행은 2개여야 하므로 2x5의 2차원 ndarray로 변환\n",
        "- array1.reshape(5,-1) : 5개의 행에 맞는 열로 변환\n",
        "- 물론 -1을 사용하더라도 호환 불가능한 형태는 변환 불가"
      ],
      "metadata": {
        "id": "pTq-OUlR64nK"
      }
    },
    {
      "cell_type": "code",
      "source": [
        "array1 = np.arange(8)\n",
        "array3d = array1.reshape((2, 2, 2))\n",
        "print('array3d：\\n', array3d.tolist())\n",
        "\n",
        "# 3차원 ndarray를 2차원 ndarray로 변환\n",
        "array5 = array3d.reshape(-1, 1)\n",
        "print('array5：\\n', array5.tolist())\n",
        "print('array5 shape：', array5.shape)\n",
        "\n",
        "# 1 차원 ndarray를 2차원 ndarray로 변환\n",
        "array6 = array1.reshape(-1, 1)\n",
        "print('array6：\\n', array6.tolist())\n",
        "print('array6 shape：', array6.shape)"
      ],
      "metadata": {
        "colab": {
          "base_uri": "https://localhost:8080/"
        },
        "id": "VnuuLLJp74GI",
        "outputId": "1e308990-50d7-443c-a3f0-2dc479ccb887"
      },
      "execution_count": null,
      "outputs": [
        {
          "output_type": "stream",
          "name": "stdout",
          "text": [
            "array3d：\n",
            " [[[0, 1], [2, 3]], [[4, 5], [6, 7]]]\n",
            "array5：\n",
            " [[0], [1], [2], [3], [4], [5], [6], [7]]\n",
            "array5 shape： (8, 1)\n",
            "array6：\n",
            " [[0], [1], [2], [3], [4], [5], [6], [7]]\n",
            "array6 shape： (8, 1)\n"
          ]
        }
      ]
    },
    {
      "cell_type": "code",
      "source": [
        "## output\n",
        "# array3d：\n",
        "#  [[[0, 1], [2, 3]], [[4, 5], [6, 7]]]\n",
        "# array5：\n",
        "#  [[0], [1], [2], [3], [4], [5], [6], [7]]\n",
        "# array5 shape： (8, 1)\n",
        "# array6：\n",
        "#  [[0], [1], [2], [3], [4], [5], [6], [7]]\n",
        "# array6 shape： (8, 1)"
      ],
      "metadata": {
        "id": "OuUEHjI98VpG"
      },
      "execution_count": null,
      "outputs": []
    },
    {
      "cell_type": "markdown",
      "source": [
        "- -1 인자는 reshape(-1,1)와 같은 형태로 자주 사용됨\n",
        "- reshape(-1,1) : 원본 ndarray가 어떤 형태라도 2차원이고, 여러행을 가지되 반드시 1개의 칼럼을 가진 ndarray로 변환시킴\n",
        "- tolist() : 리스트 자료형으로 변환 가능"
      ],
      "metadata": {
        "id": "wA4xt6Gm8Ufx"
      }
    },
    {
      "cell_type": "markdown",
      "source": [
        "**넘파이의 ndarray의 데이터 세트 선택하기 - 인덱싱**"
      ],
      "metadata": {
        "id": "stJ9NS6i-QLU"
      }
    },
    {
      "cell_type": "markdown",
      "source": [
        "1.   특정한 데이터만 추출 : 원하는 위치의 인덱스 값을 지정하면 해당 위치 데이터 반환\n",
        "2.   슬라이싱 : 연속된 인덱스상의 ndarray 추출, ':' 기호 사이에 시작 인덱스와 종료 인덱스를 표시하면 시작에서 종료-1까지의 위치에 있는 데이터의 ndarray 반환\n",
        "3.   팬시 인덱싱 : 일정한 인덱싱 집합을 리스트 또는 ndarray 형태로 지정해 해당 위치에 있는 데이터의 ndarray 반환\n",
        "4.   불린 인덱식 : 특정 조건에 해당하는지 여부인 T/F 값 인덱싱 집합을 기반으로 T에 해당하는 인덱스 위치에 있는 데이터의 ndarray 반환"
      ],
      "metadata": {
        "id": "YqL4PovZ-pUw"
      }
    },
    {
      "cell_type": "markdown",
      "source": [
        "\n",
        "\n",
        "```\n",
        "단일 값 추출\n",
        "```\n",
        "\n"
      ],
      "metadata": {
        "id": "Vlya86Hz_lj8"
      }
    },
    {
      "cell_type": "code",
      "source": [
        "# 1부터 9까지의 1차원 ndarray 생성\n",
        "array1 = np.arange(start=1, stop=10)\n",
        "print('array1：', array1)\n",
        "\n",
        "# index는 0부터 시작하므로 arrayl[2]는 3번째 index 위치의 데이터값을 의미\n",
        "value = array1[2]\n",
        "print('value：', value)\n",
        "print(type(value))\n",
        "\n",
        "print('맨 뒤의 값:', array1[-1], '맨 뒤에서 두 번째 값:', array1[-2])"
      ],
      "metadata": {
        "colab": {
          "base_uri": "https://localhost:8080/"
        },
        "id": "gAre5b9s_z_8",
        "outputId": "4c193018-8e4a-4fc9-f5df-cacf516a44af"
      },
      "execution_count": null,
      "outputs": [
        {
          "output_type": "stream",
          "name": "stdout",
          "text": [
            "array1： [1 2 3 4 5 6 7 8 9]\n",
            "value： 3\n",
            "<class 'numpy.int64'>\n",
            "맨 뒤의 값: 9 맨 뒤에서 두 번째 값: 8\n"
          ]
        }
      ]
    },
    {
      "cell_type": "code",
      "source": [
        "## output\n",
        "# array1： [1 2 3 4 5 6 7 8 9]\n",
        "# value： 3\n",
        "# <class 'numpy.int64'>\n",
        "# 맨 뒤의 값: 9 맨 뒤에서 두 번째 값: 8"
      ],
      "metadata": {
        "id": "EzYC1CgYBKdw"
      },
      "execution_count": null,
      "outputs": []
    },
    {
      "cell_type": "markdown",
      "source": [
        "- 인덱스는 0부터 시작하므로 array1[2]는 3번째 인덱스 위치의 데이터 값을 의미하므로 데이터값 3을 의미\n",
        "- array1[2]의 타입은 더이상 ndarray 타입이 아니고 ndarray 내의 데이터 값을 의미\n",
        "- 인덱스 -1은 맨 뒤의 값, -2는 뒤에서 두번째 값"
      ],
      "metadata": {
        "id": "TYa2J7oUBJ_U"
      }
    },
    {
      "cell_type": "code",
      "source": [
        "array1[0] = 9\n",
        "array1[8] = 0\n",
        "print('array1：', array1)"
      ],
      "metadata": {
        "colab": {
          "base_uri": "https://localhost:8080/"
        },
        "id": "jAwwJRa9Ca4t",
        "outputId": "ff1ba63c-ca6d-45ea-8ae2-0f06701c7d94"
      },
      "execution_count": null,
      "outputs": [
        {
          "output_type": "stream",
          "name": "stdout",
          "text": [
            "array1： [9 2 3 4 5 6 7 8 0]\n"
          ]
        }
      ]
    },
    {
      "cell_type": "code",
      "source": [
        "## output\n",
        "# array1： [9 2 3 4 5 6 7 8 0]"
      ],
      "metadata": {
        "id": "ORmULD7uCopr"
      },
      "execution_count": null,
      "outputs": []
    },
    {
      "cell_type": "markdown",
      "source": [
        "위 코드처럼 단일 인덱스를 이용해 ndarray 내 데이터 값도 간단히 수정 가능"
      ],
      "metadata": {
        "id": "n15St_L8Cvnw"
      }
    },
    {
      "cell_type": "code",
      "source": [
        "array1d = np.arange(start=1, stop=10)\n",
        "array2d = array1d.reshape(3, 3)\n",
        "print(array2d)\n",
        "\n",
        "print('(row=0, col=0) index 가리키는 값:', array2d[0, 0])\n",
        "print('(row=0, col=1) index 가리키는 값:', array2d[0, 1 ])\n",
        "print('row=1, col=O) index 가리키는 값:', array2d[1, 0])\n",
        "print('(row=2, col=2) index 가리키는 값:', array2d[2, 2])"
      ],
      "metadata": {
        "colab": {
          "base_uri": "https://localhost:8080/"
        },
        "id": "nZvVu-DwC2t2",
        "outputId": "e6748d77-a1af-41d7-9415-b05d8ee862b7"
      },
      "execution_count": null,
      "outputs": [
        {
          "output_type": "stream",
          "name": "stdout",
          "text": [
            "[[1 2 3]\n",
            " [4 5 6]\n",
            " [7 8 9]]\n",
            "(row=0, col=0) index 가리키는 값: 1\n",
            "(row=0, col=1) index 가리키는 값: 2\n",
            "row=1, col=O) index 가리키는 값: 4\n",
            "(row=2, col=2) index 가리키는 값: 9\n"
          ]
        }
      ]
    },
    {
      "cell_type": "code",
      "source": [
        "## output\n",
        "# [[1 2 3]\n",
        "#  [4 5 6]\n",
        "#  [7 8 9]]\n",
        "# (row=0, col=0) index 가리키는 값: 1\n",
        "# (row=0, col=1) index 가리키는 값: 2\n",
        "# row=1, col=O) index 가리키는 값: 4\n",
        "# (row=2, col=2) index 가리키는 값: 9"
      ],
      "metadata": {
        "id": "agBzV_ksDuDo"
      },
      "execution_count": null,
      "outputs": []
    },
    {
      "cell_type": "markdown",
      "source": [
        "- 3개의 행열 각각이 0,1,2의 인덱스로 구성되어 있음\n",
        "- 2차원에서 : axis0, axis1로 구분 (행,열)\n",
        "- 3차원에서 : axis0, axis1, axis2의 3개의 축으로 구분 (행,열,높이)\n",
        "- 이런 식으로 넘파이의 다차원 ndarray는 axis 구분을 가짐\n",
        "- 더해, 축 기반 연산에서 axis가 생략되면 axis0을 의미"
      ],
      "metadata": {
        "id": "NyqeS0DQDtc_"
      }
    },
    {
      "cell_type": "markdown",
      "source": [
        "\n",
        "\n",
        "```\n",
        "슬라이싱\n",
        "```\n",
        "\n"
      ],
      "metadata": {
        "id": "gRjbu43X_xab"
      }
    },
    {
      "cell_type": "markdown",
      "source": [
        "단일 데이터값 추출을 제외하고 슬라이싱, 팬시 인덱싱, 불린 덱싱으로 추출된 데이터 세트는 모두 ndarray 타입"
      ],
      "metadata": {
        "id": "tKMQt9BQF85N"
      }
    },
    {
      "cell_type": "code",
      "source": [
        "array1 = np.arange(start=1, stop=10)\n",
        "array3 = array1[0:3]\n",
        "print(array3)\n",
        "print(type(array3))"
      ],
      "metadata": {
        "colab": {
          "base_uri": "https://localhost:8080/"
        },
        "id": "v9cFzRgl_kmg",
        "outputId": "a6048df9-f35e-4dd9-cf84-94a83a4d992d"
      },
      "execution_count": null,
      "outputs": [
        {
          "output_type": "stream",
          "name": "stdout",
          "text": [
            "[1 2 3]\n",
            "<class 'numpy.ndarray'>\n"
          ]
        }
      ]
    },
    {
      "cell_type": "code",
      "source": [
        "## output\n",
        "# [1 2 3]\n",
        "# <class 'numpy.ndarray'>"
      ],
      "metadata": {
        "id": "as2V4Sz6F2X1"
      },
      "execution_count": null,
      "outputs": []
    },
    {
      "cell_type": "markdown",
      "source": [
        "1.   ':' 기호 앞에 시작 인덱스를 생략하면 자동으로 맨 처음 인덱스인 0으로 간주\n",
        "2.   ':' 기호 뒤에 종료 인덱스를 생략하면 자동으로 맨 마지막 인덱스로 간주\n",
        "3.   ':' 기호 앞/뒤에 시작/종료 인덱스를 생략하면 자동으로 맨 처음/맨 마지막 인덱스로 간주"
      ],
      "metadata": {
        "id": "mcEgt5y4GAu1"
      }
    },
    {
      "cell_type": "code",
      "source": [
        "array1 = np.arange(start=1, stop=10)\n",
        "array4 = array1[:3]\n",
        "print(array4)\n",
        "\n",
        "array5 = array1[3:]\n",
        "print(array5)\n",
        "\n",
        "array6 = array1[:]\n",
        "print(array6)"
      ],
      "metadata": {
        "colab": {
          "base_uri": "https://localhost:8080/"
        },
        "id": "7lvwKZJwGN2x",
        "outputId": "9fdb5786-719e-40f2-a1b4-4be9d454e655"
      },
      "execution_count": null,
      "outputs": [
        {
          "output_type": "stream",
          "name": "stdout",
          "text": [
            "[1 2 3]\n",
            "[4 5 6 7 8 9]\n",
            "[1 2 3 4 5 6 7 8 9]\n"
          ]
        }
      ]
    },
    {
      "cell_type": "code",
      "source": [
        "## output\n",
        "# [1 2 3]\n",
        "# [4 5 6 7 8 9]\n",
        "# [1 2 3 4 5 6 7 8 9]"
      ],
      "metadata": {
        "id": "9u3KlUlFGki4"
      },
      "execution_count": null,
      "outputs": []
    },
    {
      "cell_type": "code",
      "source": [
        "array1d = np.arange(start=1, stop=10)\n",
        "array2d = array1d.reshape(3, 3)\n",
        "print ('array 2d :\\n)', array2d)\n",
        "\n",
        "print('array2d[0:2, 0:2] \\n', array2d[0:2, 0:2])\n",
        "print('array2d[1:3, 0:3] \\n', array2d[1:3, 0:3])\n",
        "print('array2d[1:3, :] \\n', array2d[1:3, :])\n",
        "print('array2d[:, :] \\n', array2d[:, :])\n",
        "print('array2d[:2, 1:] \\n', array2d[:2, 1:])\n",
        "print('array2d[:2, 0] \\n', array2d[:2, 0])"
      ],
      "metadata": {
        "colab": {
          "base_uri": "https://localhost:8080/"
        },
        "id": "1Dzr2QpLHOvp",
        "outputId": "75db7dd7-d47c-4ee3-d3a1-4e62fc897199"
      },
      "execution_count": null,
      "outputs": [
        {
          "output_type": "stream",
          "name": "stdout",
          "text": [
            "array 2d :\n",
            ") [[1 2 3]\n",
            " [4 5 6]\n",
            " [7 8 9]]\n",
            "array2d[0:2, 0:2] \n",
            " [[1 2]\n",
            " [4 5]]\n",
            "array2d[1:3, 0:3] \n",
            " [[4 5 6]\n",
            " [7 8 9]]\n",
            "array2d[1:3, :] \n",
            " [[4 5 6]\n",
            " [7 8 9]]\n",
            "array2d[:, :] \n",
            " [[1 2 3]\n",
            " [4 5 6]\n",
            " [7 8 9]]\n",
            "array2d[:2, 1:] \n",
            " [[2 3]\n",
            " [5 6]]\n",
            "array2d[:2, 0] \n",
            " [1 4]\n"
          ]
        }
      ]
    },
    {
      "cell_type": "code",
      "source": [
        "## output\n",
        "# array 2d :\n",
        "# ) [[1 2 3]\n",
        "#  [4 5 6]\n",
        "#  [7 8 9]]\n",
        "# array2d[0:2, 0:2]\n",
        "#  [[1 2]\n",
        "#  [4 5]]\n",
        "# array2d[1:3, 0:3]\n",
        "#  [[4 5 6]\n",
        "#  [7 8 9]]\n",
        "# array2d[1:3, :]\n",
        "#  [[4 5 6]\n",
        "#  [7 8 9]]\n",
        "# array2d[:, :]\n",
        "#  [[1 2 3]\n",
        "#  [4 5 6]\n",
        "#  [7 8 9]]\n",
        "# array2d[:2, 1:]\n",
        "#  [[2 3]\n",
        "#  [5 6]]\n",
        "# array2d[:2, 0]\n",
        "#  [1 4]"
      ],
      "metadata": {
        "id": "OqOJJHSGIJu-"
      },
      "execution_count": null,
      "outputs": []
    },
    {
      "cell_type": "code",
      "source": [
        "print(array2d[0])\n",
        "print(array2d[1])\n",
        "print('array2d[0] shape：', array2d[0].shape, 'array2d[1] shape：', array2d[1].shape)"
      ],
      "metadata": {
        "colab": {
          "base_uri": "https://localhost:8080/"
        },
        "id": "B9wjq0JuItIJ",
        "outputId": "7a1100cf-df95-4434-be52-68f282d328a6"
      },
      "execution_count": null,
      "outputs": [
        {
          "output_type": "stream",
          "name": "stdout",
          "text": [
            "[1 2 3]\n",
            "[4 5 6]\n",
            "array2d[0] shape： (3,) array2d[1] shape： (3,)\n"
          ]
        }
      ]
    },
    {
      "cell_type": "code",
      "source": [
        "## output\n",
        "# [1 2 3]\n",
        "# [4 5 6]\n",
        "# array2d[0] shape： (3,) array2d[1] shape： (3,)"
      ],
      "metadata": {
        "id": "OCoDYpjpI3jA"
      },
      "execution_count": null,
      "outputs": []
    },
    {
      "cell_type": "markdown",
      "source": [
        "-  2차원 ndarray에서 뒤에 오는 인덱스를 없애면 1차원 ndarray 반환\n",
        "- 즉, array2d[0]과 같이 2차원에서 뒤에 오는 인덱스를 없애면 행 축(axis 0)의 첫 번째 로우 ndarray를 반환하며 반환된 ndarray = 1차원\n",
        "- 3차원 ndarray에서 뒤에 오는 인덱스를 없애면 2차원 ndarray 반환"
      ],
      "metadata": {
        "id": "j7jNO7e_Gp25"
      }
    },
    {
      "cell_type": "markdown",
      "source": [
        "\n",
        "\n",
        "```\n",
        "팬시 인덱싱\n",
        "```\n",
        "\n"
      ],
      "metadata": {
        "id": "C8NbCM_rJR4L"
      }
    },
    {
      "cell_type": "markdown",
      "source": [
        "리스트나 ndarray로 인덱스 집합을 지정하면 해당 위치의 인덱스에 해당하는 ndarray를 반환"
      ],
      "metadata": {
        "id": "YhOa0rljKGsv"
      }
    },
    {
      "cell_type": "code",
      "source": [
        "array1d = np.arange(start=1, stop=10)\n",
        "array2d = array1d.reshape(3, 3)\n",
        "\n",
        "array3 = array2d[[0, 1], 2]\n",
        "print('array2d[[0, 1], 2] =>', array3.tolist())\n",
        "\n",
        "array4 = array2d[[0, 1], 0:2]\n",
        "print('array2d[[0, 1], 0：2] => ', array4.tolist())\n",
        "\n",
        "array5 = array2d[[0, 1 ]]\n",
        "print('array2d[[0, 1 ]] =>', array5.tolist())"
      ],
      "metadata": {
        "colab": {
          "base_uri": "https://localhost:8080/"
        },
        "id": "l0NEvj7hJUHC",
        "outputId": "9d26f053-a41e-4bd3-97f8-d76eb3572cca"
      },
      "execution_count": null,
      "outputs": [
        {
          "output_type": "stream",
          "name": "stdout",
          "text": [
            "array2d[[0, 1], 2] => [3, 6]\n",
            "array2d[[0, 1], 0：2] =>  [[1, 2], [4, 5]]\n",
            "array2d[[0, 1 ]] => [[1, 2, 3], [4, 5, 6]]\n"
          ]
        }
      ]
    },
    {
      "cell_type": "code",
      "source": [
        "## output\n",
        "# array2d[[0, 1], 2] => [3, 6]\n",
        "# array2d[[0, 1], 0：2] =>  [[1, 2], [4, 5]]\n",
        "# array2d[[0, 1 ]] => [[1, 2, 3], [4, 5, 6]]"
      ],
      "metadata": {
        "id": "lMpj2wxFKCYv"
      },
      "execution_count": null,
      "outputs": []
    },
    {
      "cell_type": "markdown",
      "source": [
        "- array2d[[0,1], 2] 로우 축에 팬시 인덱싱인 [0,1]을, 칼럼 축에는 단일 값 인덱싱 2를 적용\n",
        "-  (row, col) 인덱스가(0,2), (1,2)로 적용돼 [3, 6]을 반환\n",
        "-  array2d[[0,1], 0:2]는 ((0,0), (0,1)), ((1,0), (1,1)) 인덱싱이 적용돼 [[1,2], [4,5]]를 반환\n",
        "- array2d[[0,1]]는 ((0, :), (1, :)) 인덱싱이 적용돼 [[1,2,3], [4,5,6]]을 반환"
      ],
      "metadata": {
        "id": "8NoVfSLrKSL3"
      }
    },
    {
      "cell_type": "markdown",
      "source": [
        "\n",
        "\n",
        "```\n",
        "불린 인덱싱\n",
        "```\n",
        "\n"
      ],
      "metadata": {
        "id": "cn_XsizjKUqO"
      }
    },
    {
      "cell_type": "markdown",
      "source": [
        "조건 필터링과 검색을 동시에 할 수 있기 때문에 매우 자주 사용"
      ],
      "metadata": {
        "id": "sHNHnXaDMe1v"
      }
    },
    {
      "cell_type": "code",
      "source": [
        "array1d = np.arange(start=1, stop=10)\n",
        "\n",
        "# [ ] 안에 array 1d > 5 Boolean indexing을 적용\n",
        "array3 = array1d[array1d > 5]\n",
        "print('array 1d > 5 불린 인덱싱 결과 값 :', array3)"
      ],
      "metadata": {
        "colab": {
          "base_uri": "https://localhost:8080/"
        },
        "id": "o90ECoAEKWqW",
        "outputId": "ac196e6c-9a1f-42ce-dd84-b62ffa021c95"
      },
      "execution_count": null,
      "outputs": [
        {
          "output_type": "stream",
          "name": "stdout",
          "text": [
            "array 1d > 5 불린 인덱싱 결과 값 : [6 7 8 9]\n"
          ]
        }
      ]
    },
    {
      "cell_type": "code",
      "source": [
        "## output\n",
        "# array 1d > 5 불린 인덱싱 결과 값 : [6 7 8 9]"
      ],
      "metadata": {
        "id": "YqhmvOeYMner"
      },
      "execution_count": null,
      "outputs": []
    },
    {
      "cell_type": "code",
      "source": [
        "array1d > 5"
      ],
      "metadata": {
        "colab": {
          "base_uri": "https://localhost:8080/"
        },
        "id": "aXRBrJVlM5US",
        "outputId": "910f71fb-1414-4856-8dcc-7b96d7191133"
      },
      "execution_count": null,
      "outputs": [
        {
          "output_type": "execute_result",
          "data": {
            "text/plain": [
              "array([False, False, False, False, False,  True,  True,  True,  True])"
            ]
          },
          "metadata": {},
          "execution_count": 31
        }
      ]
    },
    {
      "cell_type": "code",
      "source": [
        "## output\n",
        "# array([False, False, False, False, False, True, True, True, True])"
      ],
      "metadata": {
        "id": "BaUtJoYbNQQX"
      },
      "execution_count": null,
      "outputs": []
    },
    {
      "cell_type": "markdown",
      "source": [
        "- 5 보다 큰 데이터가 있는 위치는True 값이, 그렇지 않는 경우는 False 값이 반환됨을 확인할 수 있음\n",
        "- 조건으로 반환된 이 ndarray 객체를 인덱싱을 지정하는 [ ] 내에 입력하면 False 값은 무시하고 True 값이 있는 위치 인덱스 값으로 자동 변환해 해당하는 인덱스 위치의 데이터만 반환\n",
        "-  즉, array([False, False, False, False, False, True, True, True, True]) 에서 False가 있는 인덱스 0 〜 4는 무시하고 인덱스 [5,6,7,8]이 만들어지고 이 위치 인덱스에 해당하는 데이터 세트 [6, 7, 8, 9]를 반환"
      ],
      "metadata": {
        "id": "769HjR7UNQoe"
      }
    },
    {
      "cell_type": "code",
      "source": [
        "boolean_indexes = np.array([False, False, False, False, False, True, True, True, True])\n",
        "array3 = array1d[boolean_indexes]\n",
        "print('불린 인덱스로 필터링 결과 ：', array3)"
      ],
      "metadata": {
        "colab": {
          "base_uri": "https://localhost:8080/"
        },
        "id": "BAPV6HLpNf2f",
        "outputId": "cc27f9e4-3cc1-4a30-ee55-c69989718578"
      },
      "execution_count": null,
      "outputs": [
        {
          "output_type": "stream",
          "name": "stdout",
          "text": [
            "불린 인덱스로 필터링 결과 ： [6 7 8 9]\n"
          ]
        }
      ]
    },
    {
      "cell_type": "code",
      "source": [
        "## output\n",
        "# 불린 인덱스로 필터링 결과 ： [6 7 8 9]"
      ],
      "metadata": {
        "id": "eyJBKnGsNxtU"
      },
      "execution_count": null,
      "outputs": []
    },
    {
      "cell_type": "code",
      "source": [
        "indexes = np.array([5, 6, 7, 8])\n",
        "array4 = array1d[indexes]\n",
        "print('일반 인덱스로 필터링 결과 :', array4)"
      ],
      "metadata": {
        "colab": {
          "base_uri": "https://localhost:8080/"
        },
        "id": "1wCf54NoN2PU",
        "outputId": "39195bf9-ec54-453c-9f90-a877d97a75fc"
      },
      "execution_count": null,
      "outputs": [
        {
          "output_type": "stream",
          "name": "stdout",
          "text": [
            "일반 인덱스로 필터링 결과 : [6 7 8 9]\n"
          ]
        }
      ]
    },
    {
      "cell_type": "code",
      "source": [
        "## output\n",
        "# 일반 인덱스로 필터링 결과 : [6 7 8 9]"
      ],
      "metadata": {
        "id": "xggbqbB8OAC0"
      },
      "execution_count": null,
      "outputs": []
    },
    {
      "cell_type": "markdown",
      "source": [
        "- Step 1 : array1d > 5와 같이 ndarray의 필터링 조건을 [ ] 안에 기재\n",
        "- Step 2 : False 값은 무시하고 True 값에 해당하는 인덱스값만 저장 (유의해야 할 사항은 True값 자체인 1을 저장하는 것이 아니라 True값을 가진 인덱스를 저장한다는 것)\n",
        "- Step 3 : 저장된 인덱스 데이터 세트로 ndarray 조회"
      ],
      "metadata": {
        "id": "-qR6xzAFODps"
      }
    },
    {
      "cell_type": "markdown",
      "source": [
        "**행렬의 정렬 - sort()와 argsort()**"
      ],
      "metadata": {
        "id": "P6icc0imOgET"
      }
    },
    {
      "cell_type": "markdown",
      "source": [
        "- np.sort() : 넘파이에서 sort() 호출 -> 원 행렬 그대로 유지한 채 원 행렬의 정렬된 행렬 반환\n",
        "- ndarray.sort() : 행렬 자체에서 sort() 호출 -> 원 행렬 자체를 정렬한 형태로 변환하며 반환 값은 None"
      ],
      "metadata": {
        "id": "eFd89YldOsc7"
      }
    },
    {
      "cell_type": "code",
      "source": [
        "org_array = np.array([3, 1, 9, 5])\n",
        "print('원본 행렬:', org_array)\n",
        "\n",
        "# np.sort( )로 정렬\n",
        "sort_array1 = np.sort(org_array)\n",
        "print ('np.sort( ) 호출 후 반환된 정렬 행렬:', sort_array1)\n",
        "print('np.sort( ) 호출 후 원본 행렬:', org_array)\n",
        "\n",
        "# ndarray.sort( )로 정렬\n",
        "sort_array2 = org_array.sort()\n",
        "print('org_array.sort( ) 호출 후 반환된 행렬:', sort_array2)\n",
        "print('org_array.sort( ) 호출 후 원본 행렬:', org_array)"
      ],
      "metadata": {
        "colab": {
          "base_uri": "https://localhost:8080/"
        },
        "id": "_lFGqqeUOOjH",
        "outputId": "e94ecf1e-7d2c-4d81-d125-6780dc610108"
      },
      "execution_count": null,
      "outputs": [
        {
          "output_type": "stream",
          "name": "stdout",
          "text": [
            "원본 행렬: [3 1 9 5]\n",
            "np.sort( ) 호출 후 반환된 정렬 행렬: [1 3 5 9]\n",
            "np.sort( ) 호출 후 원본 행렬: [3 1 9 5]\n",
            "org_array.sort( ) 호출 후 반환된 행렬: None\n",
            "org_array.sort( ) 호출 후 원본 행렬: [1 3 5 9]\n"
          ]
        }
      ]
    },
    {
      "cell_type": "code",
      "source": [
        "## output\n",
        "# 원본 행렬: [3 1 9 5]\n",
        "# np.sort( ) 호출 후 반환된 정렬 행렬: [1 3 5 9]\n",
        "# np.sort( ) 호출 후 원본 행렬: [3 1 9 5]\n",
        "# org_array.sort( ) 호출 후 반환된 행렬: None\n",
        "# org_array.sort( ) 호출 후 원본 행렬: [1 3 5 9]"
      ],
      "metadata": {
        "id": "-EVxE7NmPn4G"
      },
      "execution_count": null,
      "outputs": []
    },
    {
      "cell_type": "markdown",
      "source": [
        "- 원본 행렬 [3 1 9 5]에 대해서 np.sort()는 원본 행렬을 변경하지 않고 정렬된 형태로 반환\n",
        "- ndarray.sort()는 원본 행렬 자체를 정렬한 값으로 변환"
      ],
      "metadata": {
        "id": "QgPfAKmAPnaI"
      }
    },
    {
      "cell_type": "code",
      "source": [
        "sort_array1_desc = np.sort(org_array)[::-1]\n",
        "print ('내림차순으로 정렬:', sort_array1_desc)"
      ],
      "metadata": {
        "colab": {
          "base_uri": "https://localhost:8080/"
        },
        "id": "J6UU11DSQGdX",
        "outputId": "81c17cec-2ee5-4220-8946-04b9436faece"
      },
      "execution_count": null,
      "outputs": [
        {
          "output_type": "stream",
          "name": "stdout",
          "text": [
            "내림차순으로 정렬: [9 5 3 1]\n"
          ]
        }
      ]
    },
    {
      "cell_type": "code",
      "source": [
        "## output\n",
        "# 내림차순으로 정렬: [9 5 3 1]"
      ],
      "metadata": {
        "id": "_ZXo-uhqQJ5p"
      },
      "execution_count": null,
      "outputs": []
    },
    {
      "cell_type": "markdown",
      "source": [
        " - np.sort()나 ndarray. sort( ) 모두 기본적으로 오름차순으로 행렬 내 원소를 정렬\n",
        " - 내림차순으로 정렬하기 위해서는 [::-1]을 적용 -> np.sort( )[::-1]과 같이 사용"
      ],
      "metadata": {
        "id": "vsUt6pqoP6J6"
      }
    },
    {
      "cell_type": "code",
      "source": [
        "array2d = np.array([[8, 12],\n",
        "                    [7, 1]])\n",
        "\n",
        "sort_array2d_axis0 = np.sort(array2d, axis=0)\n",
        "print('로우 방향으로 정렬:\\n', sort_array2d_axis0)\n",
        "\n",
        "sort_array2d_axis1 = np.sort(array2d, axis=1)\n",
        "print('칼럼 방향으로 정렬:\\n', sort_array2d_axis1)"
      ],
      "metadata": {
        "colab": {
          "base_uri": "https://localhost:8080/"
        },
        "id": "k3wwBnJAQOCk",
        "outputId": "a4d1538b-2aff-4d06-90ab-b76903b6f655"
      },
      "execution_count": null,
      "outputs": [
        {
          "output_type": "stream",
          "name": "stdout",
          "text": [
            "로우 방향으로 정렬:\n",
            " [[ 7  1]\n",
            " [ 8 12]]\n",
            "칼럼 방향으로 정렬:\n",
            " [[ 8 12]\n",
            " [ 1  7]]\n"
          ]
        }
      ]
    },
    {
      "cell_type": "code",
      "source": [
        "## output\n",
        "# 로우 방향으로 정렬:\n",
        "#  [[ 7  1]\n",
        "#  [ 8 12]]\n",
        "# 칼럼 방향으로 정렬:\n",
        "#  [[ 8 12]\n",
        "#  [ 1  7]]"
      ],
      "metadata": {
        "id": "IjY0M1J3QfTV"
      },
      "execution_count": null,
      "outputs": []
    },
    {
      "cell_type": "markdown",
      "source": [
        "행렬이 2차원 이상일 경우에 axis 축 값 설정을 통해 로우 방향, 또는 칼럼 방향으로 정렬을 수행 가능"
      ],
      "metadata": {
        "id": "Bh3wJEnnQlFD"
      }
    },
    {
      "cell_type": "code",
      "source": [
        "org_array = np.array([3, 1, 9, 5])\n",
        "sort_indices = np.argsort(org_array)\n",
        "print(type(sort_indices))\n",
        "print('행렬 정렬 시 원본 행렬의 인덱스:', sort_indices)"
      ],
      "metadata": {
        "colab": {
          "base_uri": "https://localhost:8080/"
        },
        "id": "8Vcc0bZ6Qpid",
        "outputId": "7d03e25f-7ff8-417f-c2f8-4eb7b959eb3e"
      },
      "execution_count": null,
      "outputs": [
        {
          "output_type": "stream",
          "name": "stdout",
          "text": [
            "<class 'numpy.ndarray'>\n",
            "행렬 정렬 시 원본 행렬의 인덱스: [1 0 3 2]\n"
          ]
        }
      ]
    },
    {
      "cell_type": "code",
      "source": [
        "## output\n",
        "# <class 'numpy.ndarray'>\n",
        "# 행렬 정렬 시 원본 행렬의 인덱스: [1 0 3 2]"
      ],
      "metadata": {
        "id": "Q_FsGnsDQ5CE"
      },
      "execution_count": null,
      "outputs": []
    },
    {
      "cell_type": "markdown",
      "source": [
        "- 원본 행렬이 정렬되었을 때 기존 원본 행렬의 원소에 대한 인덱스를 필요로 할 때 np.argsort()를 이용\n",
        "- np.argsort()는 정렬 행렬의 원본 행렬 인덱스를 ndarray 형으로 반환"
      ],
      "metadata": {
        "id": "yRL37vsORAez"
      }
    },
    {
      "cell_type": "code",
      "source": [
        "org_array = np.array([ 3, 1, 9, 5])\n",
        "sort_indices_desc = np.argsort(org_array)[::-1]\n",
        "print('행렬 내림차순 정렬 시 원본 행렬의 인덱스:', sort_indices_desc)"
      ],
      "metadata": {
        "colab": {
          "base_uri": "https://localhost:8080/"
        },
        "id": "9Gvd2NnhRH-c",
        "outputId": "c4639771-1d01-4f17-f930-f13dfca63b45"
      },
      "execution_count": null,
      "outputs": [
        {
          "output_type": "stream",
          "name": "stdout",
          "text": [
            "행렬 내림차순 정렬 시 원본 행렬의 인덱스: [2 3 0 1]\n"
          ]
        }
      ]
    },
    {
      "cell_type": "code",
      "source": [
        "## output\n",
        "# 행렬 내림차순 정렬 시 원본 행렬의 인덱스: [2 3 0 1]"
      ],
      "metadata": {
        "id": "wO3MA4tRRSNs"
      },
      "execution_count": null,
      "outputs": []
    },
    {
      "cell_type": "markdown",
      "source": [
        "오름차순이 아닌 내림차순으로 정렬 시에 원본 행렬의 인덱스를 구하는 것도 np.argsort( )[::-1]과 같이 [::-1]을 적용"
      ],
      "metadata": {
        "id": "0gLhLkFtRT_8"
      }
    },
    {
      "cell_type": "code",
      "source": [
        "import numpy as np\n",
        "\n",
        "name_array = np.array(['John1', 'Mike','Sarah', 'Kate', 'Samuel'])\n",
        "score_array= np.array([78, 95, 84, 98, 88])\n",
        "\n",
        "sort_indices_asc = np.argsort(score_array)\n",
        "print('성적 오름차순 정렬 시 score_array의 인덱스:', sort_indices_asc)\n",
        "print('성적 오름차순으로 name_array의 이름 출력:', name_array[sort_indices_asc])"
      ],
      "metadata": {
        "colab": {
          "base_uri": "https://localhost:8080/"
        },
        "id": "I723cSKxRZRF",
        "outputId": "c82ad006-709c-4ab2-9141-773454bbe43b"
      },
      "execution_count": null,
      "outputs": [
        {
          "output_type": "stream",
          "name": "stdout",
          "text": [
            "성적 오름차순 정렬 시 score_array의 인덱스: [0 2 4 1 3]\n",
            "성적 오름차순으로 name_array의 이름 출력: ['John1' 'Sarah' 'Samuel' 'Mike' 'Kate']\n"
          ]
        }
      ]
    },
    {
      "cell_type": "code",
      "source": [
        "## output\n",
        "# 성적 오름차순 정렬 시 score_array의 인덱스: [0 2 4 1 3]\n",
        "# 성적 오름차순으로 name_array의 이름 출력: ['John1' 'Sarah' 'Samuel' 'Mike' 'Kate']"
      ],
      "metadata": {
        "id": "08SABmyPRo09"
      },
      "execution_count": null,
      "outputs": []
    },
    {
      "cell_type": "markdown",
      "source": [
        "- 넘파이의 ndarray는 RDBMS의 TABLE 칼럼이나 뒤에 소개할 판다스 DataFrame 칼럼과 같은 메타 데이터를 가질 수 없음\n",
        "- 따라서 실제 값과 그 값이 뜻하는 메타 데이터를 별도의 ndarray로 각각 가져야만 함\n",
        "- 예를 들어 학생별 시험 성적을 데이터로 표현하기 위해서는 학생의 이름과 시험 성적을 각각 ndarray로 가져야 함\n",
        "- 즉 John=78, Mike=95, Sarah=84, Kate=98, Samuel=88을 ndarray로 활용하고자 한다면, name_array=['John', 'Mike', 'Sarah1', 'Kate', ‘Samuel']와 score_array=[78,95,84,98,88]과 같이 2개의 ndarray를 만들어야 함\n",
        "- 이때 시험 성적순으로 학생 이름을 출력하고자 한다면, np.argsort(score_array)를 이용해 반환된 인덱스를 name_array에 팬시 인덱스로 적용해 추출할 수 있으며, 이러한 방식은 넘파이의 데이터 추출에서 많이 사용됨"
      ],
      "metadata": {
        "id": "Vjfz-_AcRu_J"
      }
    },
    {
      "cell_type": "markdown",
      "source": [
        "**선형대수 연산 - 행렬 내적과 전치 행렬 구하기**"
      ],
      "metadata": {
        "id": "osS9_0dwRvd6"
      }
    },
    {
      "cell_type": "markdown",
      "source": [
        "***행렬 내적 (행렬 곱)***"
      ],
      "metadata": {
        "id": "S8pSt-RKSQQx"
      }
    },
    {
      "cell_type": "markdown",
      "source": [
        "두 행렬 A와 B의 내적은 np.dot()을 이용해 계산 가능"
      ],
      "metadata": {
        "id": "aYT1lnutU5G1"
      }
    },
    {
      "cell_type": "code",
      "source": [
        "A = np.array([[1, 2, 3],\n",
        "              [4, 5, 6]])\n",
        "B = np.array([[7, 8],\n",
        "              [9, 10],\n",
        "              [11, 12]])\n",
        "\n",
        "dot_product = np.dot(A, B)\n",
        "print('행렬 내적 결과:\\n', dot_product)"
      ],
      "metadata": {
        "colab": {
          "base_uri": "https://localhost:8080/"
        },
        "id": "EYtJWrvjU4oQ",
        "outputId": "3d78e1f5-b268-400f-c797-b880a7c6623e"
      },
      "execution_count": null,
      "outputs": [
        {
          "output_type": "stream",
          "name": "stdout",
          "text": [
            "행렬 내적 결과:\n",
            " [[ 58  64]\n",
            " [139 154]]\n"
          ]
        }
      ]
    },
    {
      "cell_type": "code",
      "source": [
        "## output\n",
        "# 행렬 내적 결과:\n",
        "# [[ 58  64]\n",
        "# [139 154]]"
      ],
      "metadata": {
        "id": "WbHkxIhYUx1R"
      },
      "execution_count": null,
      "outputs": []
    },
    {
      "cell_type": "markdown",
      "source": [
        "***전치 행렬***"
      ],
      "metadata": {
        "id": "5k32Tf5XVWEu"
      }
    },
    {
      "cell_type": "markdown",
      "source": [
        "- 원 행렬에서 행과 열 위치를 교환한 원소로 구성한 행렬\n",
        "- 즉 2x2 행렬 A가 있을 경우 A 행렬의 1행 2열의 원소를 2행 1열의 원소로, 2행 1 열의 원소를 1행 2열의 원소로 교환하는 것\n",
        "- A^t"
      ],
      "metadata": {
        "id": "lqixp0ebVode"
      }
    },
    {
      "cell_type": "code",
      "source": [
        "A = np.array([[1, 2],\n",
        "              [3, 4]])\n",
        "transpose_mat = np.transpose(A)\n",
        "print('A 의 전치 행렬:\\n', transpose_mat)"
      ],
      "metadata": {
        "colab": {
          "base_uri": "https://localhost:8080/"
        },
        "id": "ijT-S6ApVbC-",
        "outputId": "58ee083e-f7c1-458a-99fc-87fc8ae49a75"
      },
      "execution_count": null,
      "outputs": [
        {
          "output_type": "stream",
          "name": "stdout",
          "text": [
            "A 의 전치 행렬:\n",
            " [[1 3]\n",
            " [2 4]]\n"
          ]
        }
      ]
    },
    {
      "cell_type": "code",
      "source": [
        "## output\n",
        "# A 의 전치 행렬:\n",
        "#  [[1 3]\n",
        "#  [2 4]]"
      ],
      "metadata": {
        "id": "AGERe6sfVi7V"
      },
      "execution_count": null,
      "outputs": []
    }
  ]
}